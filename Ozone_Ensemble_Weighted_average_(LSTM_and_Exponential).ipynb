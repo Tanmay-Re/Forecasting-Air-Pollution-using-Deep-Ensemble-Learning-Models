{
  "nbformat": 4,
  "nbformat_minor": 0,
  "metadata": {
    "colab": {
      "provenance": [],
      "gpuType": "T4"
    },
    "kernelspec": {
      "name": "python3",
      "display_name": "Python 3"
    },
    "language_info": {
      "name": "python"
    },
    "accelerator": "GPU",
    "widgets": {
      "application/vnd.jupyter.widget-state+json": {
        "c9573caa9e154b6fad50bd9791703e97": {
          "model_module": "@jupyter-widgets/controls",
          "model_name": "HBoxModel",
          "model_module_version": "1.5.0",
          "state": {
            "_dom_classes": [],
            "_model_module": "@jupyter-widgets/controls",
            "_model_module_version": "1.5.0",
            "_model_name": "HBoxModel",
            "_view_count": null,
            "_view_module": "@jupyter-widgets/controls",
            "_view_module_version": "1.5.0",
            "_view_name": "HBoxView",
            "box_style": "",
            "children": [
              "IPY_MODEL_f86474abef36421392d9bfd25256cc09",
              "IPY_MODEL_bc37d5c8f0b74ad89ee011f1a19c8efa",
              "IPY_MODEL_9df6f2bc3c9a4b40affcbcb25929f64a"
            ],
            "layout": "IPY_MODEL_b6c7195d46384a6a960680af21c1022f"
          }
        },
        "f86474abef36421392d9bfd25256cc09": {
          "model_module": "@jupyter-widgets/controls",
          "model_name": "HTMLModel",
          "model_module_version": "1.5.0",
          "state": {
            "_dom_classes": [],
            "_model_module": "@jupyter-widgets/controls",
            "_model_module_version": "1.5.0",
            "_model_name": "HTMLModel",
            "_view_count": null,
            "_view_module": "@jupyter-widgets/controls",
            "_view_module_version": "1.5.0",
            "_view_name": "HTMLView",
            "description": "",
            "description_tooltip": null,
            "layout": "IPY_MODEL_527fed30fc184e18af1ea0e7b25e20e6",
            "placeholder": "​",
            "style": "IPY_MODEL_f2377314b33c4e0a8cce7bc03122ac9c",
            "value": "Epoch 99: 100%"
          }
        },
        "bc37d5c8f0b74ad89ee011f1a19c8efa": {
          "model_module": "@jupyter-widgets/controls",
          "model_name": "FloatProgressModel",
          "model_module_version": "1.5.0",
          "state": {
            "_dom_classes": [],
            "_model_module": "@jupyter-widgets/controls",
            "_model_module_version": "1.5.0",
            "_model_name": "FloatProgressModel",
            "_view_count": null,
            "_view_module": "@jupyter-widgets/controls",
            "_view_module_version": "1.5.0",
            "_view_name": "ProgressView",
            "bar_style": "success",
            "description": "",
            "description_tooltip": null,
            "layout": "IPY_MODEL_7b4929ef2d69431991521d341f817d2a",
            "max": 876,
            "min": 0,
            "orientation": "horizontal",
            "style": "IPY_MODEL_4e45622ea8f94305aad37603810d2022",
            "value": 876
          }
        },
        "9df6f2bc3c9a4b40affcbcb25929f64a": {
          "model_module": "@jupyter-widgets/controls",
          "model_name": "HTMLModel",
          "model_module_version": "1.5.0",
          "state": {
            "_dom_classes": [],
            "_model_module": "@jupyter-widgets/controls",
            "_model_module_version": "1.5.0",
            "_model_name": "HTMLModel",
            "_view_count": null,
            "_view_module": "@jupyter-widgets/controls",
            "_view_module_version": "1.5.0",
            "_view_name": "HTMLView",
            "description": "",
            "description_tooltip": null,
            "layout": "IPY_MODEL_8105851b6fb84da6b2798a169901f7e7",
            "placeholder": "​",
            "style": "IPY_MODEL_df454a63082041fa918a95e0c38b10e6",
            "value": " 876/876 [00:06&lt;00:00, 127.18it/s, train_loss=171.0]"
          }
        },
        "b6c7195d46384a6a960680af21c1022f": {
          "model_module": "@jupyter-widgets/base",
          "model_name": "LayoutModel",
          "model_module_version": "1.2.0",
          "state": {
            "_model_module": "@jupyter-widgets/base",
            "_model_module_version": "1.2.0",
            "_model_name": "LayoutModel",
            "_view_count": null,
            "_view_module": "@jupyter-widgets/base",
            "_view_module_version": "1.2.0",
            "_view_name": "LayoutView",
            "align_content": null,
            "align_items": null,
            "align_self": null,
            "border": null,
            "bottom": null,
            "display": "inline-flex",
            "flex": null,
            "flex_flow": "row wrap",
            "grid_area": null,
            "grid_auto_columns": null,
            "grid_auto_flow": null,
            "grid_auto_rows": null,
            "grid_column": null,
            "grid_gap": null,
            "grid_row": null,
            "grid_template_areas": null,
            "grid_template_columns": null,
            "grid_template_rows": null,
            "height": null,
            "justify_content": null,
            "justify_items": null,
            "left": null,
            "margin": null,
            "max_height": null,
            "max_width": null,
            "min_height": null,
            "min_width": null,
            "object_fit": null,
            "object_position": null,
            "order": null,
            "overflow": null,
            "overflow_x": null,
            "overflow_y": null,
            "padding": null,
            "right": null,
            "top": null,
            "visibility": null,
            "width": "100%"
          }
        },
        "527fed30fc184e18af1ea0e7b25e20e6": {
          "model_module": "@jupyter-widgets/base",
          "model_name": "LayoutModel",
          "model_module_version": "1.2.0",
          "state": {
            "_model_module": "@jupyter-widgets/base",
            "_model_module_version": "1.2.0",
            "_model_name": "LayoutModel",
            "_view_count": null,
            "_view_module": "@jupyter-widgets/base",
            "_view_module_version": "1.2.0",
            "_view_name": "LayoutView",
            "align_content": null,
            "align_items": null,
            "align_self": null,
            "border": null,
            "bottom": null,
            "display": null,
            "flex": null,
            "flex_flow": null,
            "grid_area": null,
            "grid_auto_columns": null,
            "grid_auto_flow": null,
            "grid_auto_rows": null,
            "grid_column": null,
            "grid_gap": null,
            "grid_row": null,
            "grid_template_areas": null,
            "grid_template_columns": null,
            "grid_template_rows": null,
            "height": null,
            "justify_content": null,
            "justify_items": null,
            "left": null,
            "margin": null,
            "max_height": null,
            "max_width": null,
            "min_height": null,
            "min_width": null,
            "object_fit": null,
            "object_position": null,
            "order": null,
            "overflow": null,
            "overflow_x": null,
            "overflow_y": null,
            "padding": null,
            "right": null,
            "top": null,
            "visibility": null,
            "width": null
          }
        },
        "f2377314b33c4e0a8cce7bc03122ac9c": {
          "model_module": "@jupyter-widgets/controls",
          "model_name": "DescriptionStyleModel",
          "model_module_version": "1.5.0",
          "state": {
            "_model_module": "@jupyter-widgets/controls",
            "_model_module_version": "1.5.0",
            "_model_name": "DescriptionStyleModel",
            "_view_count": null,
            "_view_module": "@jupyter-widgets/base",
            "_view_module_version": "1.2.0",
            "_view_name": "StyleView",
            "description_width": ""
          }
        },
        "7b4929ef2d69431991521d341f817d2a": {
          "model_module": "@jupyter-widgets/base",
          "model_name": "LayoutModel",
          "model_module_version": "1.2.0",
          "state": {
            "_model_module": "@jupyter-widgets/base",
            "_model_module_version": "1.2.0",
            "_model_name": "LayoutModel",
            "_view_count": null,
            "_view_module": "@jupyter-widgets/base",
            "_view_module_version": "1.2.0",
            "_view_name": "LayoutView",
            "align_content": null,
            "align_items": null,
            "align_self": null,
            "border": null,
            "bottom": null,
            "display": null,
            "flex": "2",
            "flex_flow": null,
            "grid_area": null,
            "grid_auto_columns": null,
            "grid_auto_flow": null,
            "grid_auto_rows": null,
            "grid_column": null,
            "grid_gap": null,
            "grid_row": null,
            "grid_template_areas": null,
            "grid_template_columns": null,
            "grid_template_rows": null,
            "height": null,
            "justify_content": null,
            "justify_items": null,
            "left": null,
            "margin": null,
            "max_height": null,
            "max_width": null,
            "min_height": null,
            "min_width": null,
            "object_fit": null,
            "object_position": null,
            "order": null,
            "overflow": null,
            "overflow_x": null,
            "overflow_y": null,
            "padding": null,
            "right": null,
            "top": null,
            "visibility": null,
            "width": null
          }
        },
        "4e45622ea8f94305aad37603810d2022": {
          "model_module": "@jupyter-widgets/controls",
          "model_name": "ProgressStyleModel",
          "model_module_version": "1.5.0",
          "state": {
            "_model_module": "@jupyter-widgets/controls",
            "_model_module_version": "1.5.0",
            "_model_name": "ProgressStyleModel",
            "_view_count": null,
            "_view_module": "@jupyter-widgets/base",
            "_view_module_version": "1.2.0",
            "_view_name": "StyleView",
            "bar_color": null,
            "description_width": ""
          }
        },
        "8105851b6fb84da6b2798a169901f7e7": {
          "model_module": "@jupyter-widgets/base",
          "model_name": "LayoutModel",
          "model_module_version": "1.2.0",
          "state": {
            "_model_module": "@jupyter-widgets/base",
            "_model_module_version": "1.2.0",
            "_model_name": "LayoutModel",
            "_view_count": null,
            "_view_module": "@jupyter-widgets/base",
            "_view_module_version": "1.2.0",
            "_view_name": "LayoutView",
            "align_content": null,
            "align_items": null,
            "align_self": null,
            "border": null,
            "bottom": null,
            "display": null,
            "flex": null,
            "flex_flow": null,
            "grid_area": null,
            "grid_auto_columns": null,
            "grid_auto_flow": null,
            "grid_auto_rows": null,
            "grid_column": null,
            "grid_gap": null,
            "grid_row": null,
            "grid_template_areas": null,
            "grid_template_columns": null,
            "grid_template_rows": null,
            "height": null,
            "justify_content": null,
            "justify_items": null,
            "left": null,
            "margin": null,
            "max_height": null,
            "max_width": null,
            "min_height": null,
            "min_width": null,
            "object_fit": null,
            "object_position": null,
            "order": null,
            "overflow": null,
            "overflow_x": null,
            "overflow_y": null,
            "padding": null,
            "right": null,
            "top": null,
            "visibility": null,
            "width": null
          }
        },
        "df454a63082041fa918a95e0c38b10e6": {
          "model_module": "@jupyter-widgets/controls",
          "model_name": "DescriptionStyleModel",
          "model_module_version": "1.5.0",
          "state": {
            "_model_module": "@jupyter-widgets/controls",
            "_model_module_version": "1.5.0",
            "_model_name": "DescriptionStyleModel",
            "_view_count": null,
            "_view_module": "@jupyter-widgets/base",
            "_view_module_version": "1.2.0",
            "_view_name": "StyleView",
            "description_width": ""
          }
        },
        "b8908a195160421780bc2ec54252de4e": {
          "model_module": "@jupyter-widgets/controls",
          "model_name": "HBoxModel",
          "model_module_version": "1.5.0",
          "state": {
            "_dom_classes": [],
            "_model_module": "@jupyter-widgets/controls",
            "_model_module_version": "1.5.0",
            "_model_name": "HBoxModel",
            "_view_count": null,
            "_view_module": "@jupyter-widgets/controls",
            "_view_module_version": "1.5.0",
            "_view_name": "HBoxView",
            "box_style": "",
            "children": [
              "IPY_MODEL_24e4ed644cca4e7882f6a1865e1ee201",
              "IPY_MODEL_74b758e4faad42b29e523551845896c4",
              "IPY_MODEL_d6dd39ead4ea47b6813c792b52a6bd14"
            ],
            "layout": "IPY_MODEL_42aac1806b3b4d17b16dc6bf8510636e"
          }
        },
        "24e4ed644cca4e7882f6a1865e1ee201": {
          "model_module": "@jupyter-widgets/controls",
          "model_name": "HTMLModel",
          "model_module_version": "1.5.0",
          "state": {
            "_dom_classes": [],
            "_model_module": "@jupyter-widgets/controls",
            "_model_module_version": "1.5.0",
            "_model_name": "HTMLModel",
            "_view_count": null,
            "_view_module": "@jupyter-widgets/controls",
            "_view_module_version": "1.5.0",
            "_view_name": "HTMLView",
            "description": "",
            "description_tooltip": null,
            "layout": "IPY_MODEL_de6075f828c940a6bf804d8f1968ec88",
            "placeholder": "​",
            "style": "IPY_MODEL_82cdd824f9634af0b762e2e717b4c662",
            "value": "Predicting DataLoader 0: 100%"
          }
        },
        "74b758e4faad42b29e523551845896c4": {
          "model_module": "@jupyter-widgets/controls",
          "model_name": "FloatProgressModel",
          "model_module_version": "1.5.0",
          "state": {
            "_dom_classes": [],
            "_model_module": "@jupyter-widgets/controls",
            "_model_module_version": "1.5.0",
            "_model_name": "FloatProgressModel",
            "_view_count": null,
            "_view_module": "@jupyter-widgets/controls",
            "_view_module_version": "1.5.0",
            "_view_name": "ProgressView",
            "bar_style": "success",
            "description": "",
            "description_tooltip": null,
            "layout": "IPY_MODEL_91f02991327b44318c319b7e3cfff387",
            "max": 1,
            "min": 0,
            "orientation": "horizontal",
            "style": "IPY_MODEL_1b3ed0f61236434788727dfd7093fd92",
            "value": 1
          }
        },
        "d6dd39ead4ea47b6813c792b52a6bd14": {
          "model_module": "@jupyter-widgets/controls",
          "model_name": "HTMLModel",
          "model_module_version": "1.5.0",
          "state": {
            "_dom_classes": [],
            "_model_module": "@jupyter-widgets/controls",
            "_model_module_version": "1.5.0",
            "_model_name": "HTMLModel",
            "_view_count": null,
            "_view_module": "@jupyter-widgets/controls",
            "_view_module_version": "1.5.0",
            "_view_name": "HTMLView",
            "description": "",
            "description_tooltip": null,
            "layout": "IPY_MODEL_15bb047d064b476aba43a5ca255db603",
            "placeholder": "​",
            "style": "IPY_MODEL_782662c0de48465ea5bfc1bff08b49f7",
            "value": " 1/1 [00:01&lt;00:00,  0.54it/s]"
          }
        },
        "42aac1806b3b4d17b16dc6bf8510636e": {
          "model_module": "@jupyter-widgets/base",
          "model_name": "LayoutModel",
          "model_module_version": "1.2.0",
          "state": {
            "_model_module": "@jupyter-widgets/base",
            "_model_module_version": "1.2.0",
            "_model_name": "LayoutModel",
            "_view_count": null,
            "_view_module": "@jupyter-widgets/base",
            "_view_module_version": "1.2.0",
            "_view_name": "LayoutView",
            "align_content": null,
            "align_items": null,
            "align_self": null,
            "border": null,
            "bottom": null,
            "display": "inline-flex",
            "flex": null,
            "flex_flow": "row wrap",
            "grid_area": null,
            "grid_auto_columns": null,
            "grid_auto_flow": null,
            "grid_auto_rows": null,
            "grid_column": null,
            "grid_gap": null,
            "grid_row": null,
            "grid_template_areas": null,
            "grid_template_columns": null,
            "grid_template_rows": null,
            "height": null,
            "justify_content": null,
            "justify_items": null,
            "left": null,
            "margin": null,
            "max_height": null,
            "max_width": null,
            "min_height": null,
            "min_width": null,
            "object_fit": null,
            "object_position": null,
            "order": null,
            "overflow": null,
            "overflow_x": null,
            "overflow_y": null,
            "padding": null,
            "right": null,
            "top": null,
            "visibility": null,
            "width": "100%"
          }
        },
        "de6075f828c940a6bf804d8f1968ec88": {
          "model_module": "@jupyter-widgets/base",
          "model_name": "LayoutModel",
          "model_module_version": "1.2.0",
          "state": {
            "_model_module": "@jupyter-widgets/base",
            "_model_module_version": "1.2.0",
            "_model_name": "LayoutModel",
            "_view_count": null,
            "_view_module": "@jupyter-widgets/base",
            "_view_module_version": "1.2.0",
            "_view_name": "LayoutView",
            "align_content": null,
            "align_items": null,
            "align_self": null,
            "border": null,
            "bottom": null,
            "display": null,
            "flex": null,
            "flex_flow": null,
            "grid_area": null,
            "grid_auto_columns": null,
            "grid_auto_flow": null,
            "grid_auto_rows": null,
            "grid_column": null,
            "grid_gap": null,
            "grid_row": null,
            "grid_template_areas": null,
            "grid_template_columns": null,
            "grid_template_rows": null,
            "height": null,
            "justify_content": null,
            "justify_items": null,
            "left": null,
            "margin": null,
            "max_height": null,
            "max_width": null,
            "min_height": null,
            "min_width": null,
            "object_fit": null,
            "object_position": null,
            "order": null,
            "overflow": null,
            "overflow_x": null,
            "overflow_y": null,
            "padding": null,
            "right": null,
            "top": null,
            "visibility": null,
            "width": null
          }
        },
        "82cdd824f9634af0b762e2e717b4c662": {
          "model_module": "@jupyter-widgets/controls",
          "model_name": "DescriptionStyleModel",
          "model_module_version": "1.5.0",
          "state": {
            "_model_module": "@jupyter-widgets/controls",
            "_model_module_version": "1.5.0",
            "_model_name": "DescriptionStyleModel",
            "_view_count": null,
            "_view_module": "@jupyter-widgets/base",
            "_view_module_version": "1.2.0",
            "_view_name": "StyleView",
            "description_width": ""
          }
        },
        "91f02991327b44318c319b7e3cfff387": {
          "model_module": "@jupyter-widgets/base",
          "model_name": "LayoutModel",
          "model_module_version": "1.2.0",
          "state": {
            "_model_module": "@jupyter-widgets/base",
            "_model_module_version": "1.2.0",
            "_model_name": "LayoutModel",
            "_view_count": null,
            "_view_module": "@jupyter-widgets/base",
            "_view_module_version": "1.2.0",
            "_view_name": "LayoutView",
            "align_content": null,
            "align_items": null,
            "align_self": null,
            "border": null,
            "bottom": null,
            "display": null,
            "flex": "2",
            "flex_flow": null,
            "grid_area": null,
            "grid_auto_columns": null,
            "grid_auto_flow": null,
            "grid_auto_rows": null,
            "grid_column": null,
            "grid_gap": null,
            "grid_row": null,
            "grid_template_areas": null,
            "grid_template_columns": null,
            "grid_template_rows": null,
            "height": null,
            "justify_content": null,
            "justify_items": null,
            "left": null,
            "margin": null,
            "max_height": null,
            "max_width": null,
            "min_height": null,
            "min_width": null,
            "object_fit": null,
            "object_position": null,
            "order": null,
            "overflow": null,
            "overflow_x": null,
            "overflow_y": null,
            "padding": null,
            "right": null,
            "top": null,
            "visibility": null,
            "width": null
          }
        },
        "1b3ed0f61236434788727dfd7093fd92": {
          "model_module": "@jupyter-widgets/controls",
          "model_name": "ProgressStyleModel",
          "model_module_version": "1.5.0",
          "state": {
            "_model_module": "@jupyter-widgets/controls",
            "_model_module_version": "1.5.0",
            "_model_name": "ProgressStyleModel",
            "_view_count": null,
            "_view_module": "@jupyter-widgets/base",
            "_view_module_version": "1.2.0",
            "_view_name": "StyleView",
            "bar_color": null,
            "description_width": ""
          }
        },
        "15bb047d064b476aba43a5ca255db603": {
          "model_module": "@jupyter-widgets/base",
          "model_name": "LayoutModel",
          "model_module_version": "1.2.0",
          "state": {
            "_model_module": "@jupyter-widgets/base",
            "_model_module_version": "1.2.0",
            "_model_name": "LayoutModel",
            "_view_count": null,
            "_view_module": "@jupyter-widgets/base",
            "_view_module_version": "1.2.0",
            "_view_name": "LayoutView",
            "align_content": null,
            "align_items": null,
            "align_self": null,
            "border": null,
            "bottom": null,
            "display": null,
            "flex": null,
            "flex_flow": null,
            "grid_area": null,
            "grid_auto_columns": null,
            "grid_auto_flow": null,
            "grid_auto_rows": null,
            "grid_column": null,
            "grid_gap": null,
            "grid_row": null,
            "grid_template_areas": null,
            "grid_template_columns": null,
            "grid_template_rows": null,
            "height": null,
            "justify_content": null,
            "justify_items": null,
            "left": null,
            "margin": null,
            "max_height": null,
            "max_width": null,
            "min_height": null,
            "min_width": null,
            "object_fit": null,
            "object_position": null,
            "order": null,
            "overflow": null,
            "overflow_x": null,
            "overflow_y": null,
            "padding": null,
            "right": null,
            "top": null,
            "visibility": null,
            "width": null
          }
        },
        "782662c0de48465ea5bfc1bff08b49f7": {
          "model_module": "@jupyter-widgets/controls",
          "model_name": "DescriptionStyleModel",
          "model_module_version": "1.5.0",
          "state": {
            "_model_module": "@jupyter-widgets/controls",
            "_model_module_version": "1.5.0",
            "_model_name": "DescriptionStyleModel",
            "_view_count": null,
            "_view_module": "@jupyter-widgets/base",
            "_view_module_version": "1.2.0",
            "_view_name": "StyleView",
            "description_width": ""
          }
        }
      }
    }
  },
  "cells": [
    {
      "cell_type": "code",
      "execution_count": null,
      "metadata": {
        "collapsed": true,
        "id": "Rr9r1XgaN46X"
      },
      "outputs": [],
      "source": [
        "!pip install darts"
      ]
    },
    {
      "cell_type": "code",
      "source": [
        "from google.colab import drive\n",
        "drive.mount('/content/drive')"
      ],
      "metadata": {
        "colab": {
          "base_uri": "https://localhost:8080/"
        },
        "id": "GiTDSl-5OFxx",
        "outputId": "fc0b2cb3-d87a-4692-9ac1-edb19d2003c1"
      },
      "execution_count": null,
      "outputs": [
        {
          "output_type": "stream",
          "name": "stdout",
          "text": [
            "Mounted at /content/drive\n"
          ]
        }
      ]
    },
    {
      "cell_type": "code",
      "source": [
        "import pandas as pd\n",
        "\n",
        "file_path = '/content/drive/MyDrive/Capstone/Outliers_Removed_with_IsolationForest.csv'\n",
        "df = pd.read_csv(file_path)"
      ],
      "metadata": {
        "id": "CmvE4iGvOG_X"
      },
      "execution_count": null,
      "outputs": []
    },
    {
      "cell_type": "code",
      "source": [
        "from darts import TimeSeries\n",
        "from darts.utils.missing_values import fill_missing_values\n",
        "from darts.models import RNNModel, ExponentialSmoothing\n",
        "from darts.metrics import mae, rmse\n",
        "import matplotlib.pyplot as plt\n",
        "\n",
        "# Preprocess the data\n",
        "df['Timestamp'] = pd.to_datetime(df['Timestamp'])\n",
        "df_co = df[['Timestamp', 'Ozone (µg/m³)']].dropna()\n",
        "\n",
        "# Remove duplicates by averaging values for duplicate timestamps\n",
        "df_co_cleaned = df_co.groupby('Timestamp').mean().reset_index()\n",
        "\n",
        "# Create the TimeSeries object\n",
        "co_series = TimeSeries.from_dataframe(df_co_cleaned, time_col='Timestamp', value_cols='Ozone (µg/m³)', fill_missing_dates=True, freq='h')\n",
        "co_series_filled = fill_missing_values(co_series)\n",
        "\n",
        "# Split the data into train and validation sets\n",
        "train, val = co_series_filled.split_before(0.8)\n",
        "\n",
        "# LSTM\n",
        "lstm_model = RNNModel(\n",
        "    model='LSTM',\n",
        "    input_chunk_length=20,\n",
        "    output_chunk_length=1,\n",
        "    n_epochs=100,\n",
        "    random_state=42\n",
        ")\n",
        "lstm_model.fit(train)\n",
        "\n",
        "# Exponential Smoothing\n",
        "exp_model = ExponentialSmoothing()\n",
        "exp_model.fit(train)\n",
        "\n",
        "# Both predictions on the validation set\n",
        "lstm_prediction = lstm_model.predict(len(val), series=train)\n",
        "exp_prediction = exp_model.predict(len(val))\n",
        "\n",
        "# Ensembling LSTM and Exponential\n",
        "w1 = 0.9  # Weight for LSTM model\n",
        "w2 = 0.1  # Weight for Exponential Smoothing model\n",
        "\n",
        "# Weighted ensemble prediction\n",
        "ensemble_prediction = ((w1 * lstm_prediction) + (w2 * exp_prediction)) / (w1 + w2)"
      ],
      "metadata": {
        "colab": {
          "base_uri": "https://localhost:8080/",
          "height": 706,
          "referenced_widgets": [
            "c9573caa9e154b6fad50bd9791703e97",
            "f86474abef36421392d9bfd25256cc09",
            "bc37d5c8f0b74ad89ee011f1a19c8efa",
            "9df6f2bc3c9a4b40affcbcb25929f64a",
            "b6c7195d46384a6a960680af21c1022f",
            "527fed30fc184e18af1ea0e7b25e20e6",
            "f2377314b33c4e0a8cce7bc03122ac9c",
            "7b4929ef2d69431991521d341f817d2a",
            "4e45622ea8f94305aad37603810d2022",
            "8105851b6fb84da6b2798a169901f7e7",
            "df454a63082041fa918a95e0c38b10e6",
            "b8908a195160421780bc2ec54252de4e",
            "24e4ed644cca4e7882f6a1865e1ee201",
            "74b758e4faad42b29e523551845896c4",
            "d6dd39ead4ea47b6813c792b52a6bd14",
            "42aac1806b3b4d17b16dc6bf8510636e",
            "de6075f828c940a6bf804d8f1968ec88",
            "82cdd824f9634af0b762e2e717b4c662",
            "91f02991327b44318c319b7e3cfff387",
            "1b3ed0f61236434788727dfd7093fd92",
            "15bb047d064b476aba43a5ca255db603",
            "782662c0de48465ea5bfc1bff08b49f7"
          ]
        },
        "id": "rW-RXAeLOIIC",
        "outputId": "90a932d6-3800-4f45-9baa-b37d6b2f6f4c"
      },
      "execution_count": null,
      "outputs": [
        {
          "output_type": "stream",
          "name": "stderr",
          "text": [
            "/usr/local/lib/python3.10/dist-packages/dask/dataframe/__init__.py:42: FutureWarning: \n",
            "Dask dataframe query planning is disabled because dask-expr is not installed.\n",
            "\n",
            "You can install it with `pip install dask[dataframe]` or `conda install dask`.\n",
            "This will raise in a future version.\n",
            "\n",
            "  warnings.warn(msg, FutureWarning)\n",
            "WARNING:darts.models.forecasting.rnn_model:ignoring user defined `output_chunk_length`. RNNModel uses a fixed `output_chunk_length=1`.\n",
            "INFO:pytorch_lightning.utilities.rank_zero:GPU available: True (cuda), used: True\n",
            "INFO:pytorch_lightning.utilities.rank_zero:TPU available: False, using: 0 TPU cores\n",
            "INFO:pytorch_lightning.utilities.rank_zero:HPU available: False, using: 0 HPUs\n",
            "INFO:pytorch_lightning.accelerators.cuda:LOCAL_RANK: 0 - CUDA_VISIBLE_DEVICES: [0]\n",
            "INFO:pytorch_lightning.callbacks.model_summary:\n",
            "  | Name            | Type             | Params | Mode \n",
            "-------------------------------------------------------------\n",
            "0 | criterion       | MSELoss          | 0      | train\n",
            "1 | train_criterion | MSELoss          | 0      | train\n",
            "2 | val_criterion   | MSELoss          | 0      | train\n",
            "3 | train_metrics   | MetricCollection | 0      | train\n",
            "4 | val_metrics     | MetricCollection | 0      | train\n",
            "5 | rnn             | LSTM             | 2.8 K  | train\n",
            "6 | V               | Linear           | 26     | train\n",
            "-------------------------------------------------------------\n",
            "2.8 K     Trainable params\n",
            "0         Non-trainable params\n",
            "2.8 K     Total params\n",
            "0.011     Total estimated model params size (MB)\n",
            "7         Modules in train mode\n",
            "0         Modules in eval mode\n"
          ]
        },
        {
          "output_type": "display_data",
          "data": {
            "text/plain": [
              "Training: |          | 0/? [00:00<?, ?it/s]"
            ],
            "application/vnd.jupyter.widget-view+json": {
              "version_major": 2,
              "version_minor": 0,
              "model_id": "c9573caa9e154b6fad50bd9791703e97"
            }
          },
          "metadata": {}
        },
        {
          "output_type": "stream",
          "name": "stderr",
          "text": [
            "INFO:pytorch_lightning.utilities.rank_zero:`Trainer.fit` stopped: `max_epochs=100` reached.\n",
            "/usr/local/lib/python3.10/dist-packages/statsmodels/tsa/holtwinters/model.py:918: ConvergenceWarning: Optimization failed to converge. Check mle_retvals.\n",
            "  warnings.warn(\n",
            "INFO:pytorch_lightning.utilities.rank_zero:GPU available: True (cuda), used: True\n",
            "INFO:pytorch_lightning.utilities.rank_zero:TPU available: False, using: 0 TPU cores\n",
            "INFO:pytorch_lightning.utilities.rank_zero:HPU available: False, using: 0 HPUs\n",
            "INFO:pytorch_lightning.accelerators.cuda:LOCAL_RANK: 0 - CUDA_VISIBLE_DEVICES: [0]\n"
          ]
        },
        {
          "output_type": "display_data",
          "data": {
            "text/plain": [
              "Predicting: |          | 0/? [00:00<?, ?it/s]"
            ],
            "application/vnd.jupyter.widget-view+json": {
              "version_major": 2,
              "version_minor": 0,
              "model_id": "b8908a195160421780bc2ec54252de4e"
            }
          },
          "metadata": {}
        }
      ]
    },
    {
      "cell_type": "code",
      "source": [
        "plt.figure(figsize=(10, 6))\n",
        "train.plot(label='Training Data')\n",
        "val.plot(label='Validation Data')\n",
        "lstm_prediction.plot(label='LSTM Prediction')\n",
        "exp_prediction.plot(label='Exponential Smoothing Prediction')\n",
        "ensemble_prediction.plot(label='Ensemble Forecast (Weighted)')\n",
        "plt.legend()\n",
        "plt.show()"
      ],
      "metadata": {
        "colab": {
          "base_uri": "https://localhost:8080/",
          "height": 541
        },
        "id": "Q3a8XIsiOIw6",
        "outputId": "c3090e32-a48c-4af9-ac8d-f2e8dcbbead5"
      },
      "execution_count": null,
      "outputs": [
        {
          "output_type": "display_data",
          "data": {
            "text/plain": [
              "<Figure size 1000x600 with 1 Axes>"
            ],
            "image/png": "[encoded data removed]"
          },
          "metadata": {}
        }
      ]
    },
    {
      "cell_type": "code",
      "source": [
        "mae_error = mae(val, ensemble_prediction)\n",
        "rmse_value = rmse(val, ensemble_prediction)\n",
        "\n",
        "print(f'Weighted Ensemble MAE: {mae_error:.2f}')\n",
        "print(f'Weighted Ensemble RMSE: {rmse_value:.2f}')"
      ],
      "metadata": {
        "colab": {
          "base_uri": "https://localhost:8080/"
        },
        "id": "QqD4paTdOKSC",
        "outputId": "241a8f81-48c7-4019-a065-60dd7b0a556b"
      },
      "execution_count": null,
      "outputs": [
        {
          "output_type": "stream",
          "name": "stdout",
          "text": [
            "Weighted Ensemble MAE: 66.32\n",
            "Weighted Ensemble RMSE: 74.04\n"
          ]
        }
      ]
    },
    {
      "cell_type": "code",
      "source": [
        "val_df = val.pd_dataframe()\n",
        "ensemble_prediction_df = ensemble_prediction.pd_dataframe()\n",
        "\n",
        "print(\"Actual Results:\")\n",
        "print(val_df.head())\n",
        "\n",
        "print(\"\\nEnsemble Predicted Results:\")\n",
        "print(ensemble_prediction_df.head())\n",
        "\n",
        "print(\"Actual Results:\")\n",
        "print(val_df)\n",
        "\n",
        "print(\"\\nEnsemble Predicted Results:\")\n",
        "print(ensemble_prediction_df)"
      ],
      "metadata": {
        "colab": {
          "base_uri": "https://localhost:8080/"
        },
        "id": "x67IhOdjONEK",
        "outputId": "4e038a2d-a7d0-425d-a2c0-3f2d410cec77"
      },
      "execution_count": null,
      "outputs": [
        {
          "output_type": "stream",
          "name": "stdout",
          "text": [
            "Actual Results:\n",
            "component            Ozone (µg/m³)\n",
            "Timestamp                         \n",
            "2023-03-14 18:00:00      23.873333\n",
            "2023-03-14 19:00:00      23.862500\n",
            "2023-03-14 20:00:00      23.972500\n",
            "2023-03-14 21:00:00      23.602500\n",
            "2023-03-14 22:00:00      23.822500\n",
            "\n",
            "Ensemble Predicted Results:\n",
            "component            Ozone (µg/m³)\n",
            "Timestamp                         \n",
            "2023-03-14 18:00:00      22.906522\n",
            "2023-03-14 19:00:00      22.292397\n",
            "2023-03-14 20:00:00      21.853172\n",
            "2023-03-14 21:00:00      21.457333\n",
            "2023-03-14 22:00:00      21.223582\n",
            "Actual Results:\n",
            "component            Ozone (µg/m³)\n",
            "Timestamp                         \n",
            "2023-03-14 18:00:00      23.873333\n",
            "2023-03-14 19:00:00      23.862500\n",
            "2023-03-14 20:00:00      23.972500\n",
            "2023-03-14 21:00:00      23.602500\n",
            "2023-03-14 22:00:00      23.822500\n",
            "...                            ...\n",
            "2023-12-31 19:00:00       9.010000\n",
            "2023-12-31 20:00:00       3.192500\n",
            "2023-12-31 21:00:00       1.655000\n",
            "2023-12-31 22:00:00       1.312500\n",
            "2023-12-31 23:00:00       1.547500\n",
            "\n",
            "[7014 rows x 1 columns]\n",
            "\n",
            "Ensemble Predicted Results:\n",
            "component            Ozone (µg/m³)\n",
            "Timestamp                         \n",
            "2023-03-14 18:00:00      22.906522\n",
            "2023-03-14 19:00:00      22.292397\n",
            "2023-03-14 20:00:00      21.853172\n",
            "2023-03-14 21:00:00      21.457333\n",
            "2023-03-14 22:00:00      21.223582\n",
            "...                            ...\n",
            "2023-12-31 19:00:00    -104.287346\n",
            "2023-12-31 20:00:00    -105.001617\n",
            "2023-12-31 21:00:00    -105.304481\n",
            "2023-12-31 22:00:00    -105.285903\n",
            "2023-12-31 23:00:00    -105.243259\n",
            "\n",
            "[7014 rows x 1 columns]\n"
          ]
        }
      ]
    }
  ]
}